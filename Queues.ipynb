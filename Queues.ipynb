{
 "cells": [
  {
   "cell_type": "markdown",
   "metadata": {},
   "source": [
    "# Queues"
   ]
  },
  {
   "cell_type": "markdown",
   "metadata": {},
   "source": [
    "It is a data structure that follows FIFO"
   ]
  },
  {
   "cell_type": "markdown",
   "metadata": {},
   "source": [
    "Enqueue(Insertion on rear end ), Dequeue(Deletion on front end), Display"
   ]
  },
  {
   "cell_type": "markdown",
   "metadata": {},
   "source": [
    "# Queues by list"
   ]
  },
  {
   "cell_type": "code",
   "execution_count": 3,
   "metadata": {},
   "outputs": [],
   "source": [
    "class queue:\n",
    "    def __init__(self, maxsize):\n",
    "        self.maxsize=maxsize\n",
    "        self.elements=[None]*maxsize\n",
    "        self.front=-1\n",
    "        self.rear=-1\n",
    "        \n",
    "    def enqueue(self, data):\n",
    "        if self.rear==self.maxsize-1:\n",
    "            print(\"full\")\n",
    "        elif self.front==-1:\n",
    "            self.front+=1\n",
    "            self.rear+=1\n",
    "            self.elements[self.rear]=data\n",
    "        else:\n",
    "            self.rear+=1\n",
    "            self.elements[self.rear]=data\n",
    "    def dequeue(self):\n",
    "        if self.front==-1:\n",
    "            print(\"empty\")\n",
    "        elif self.front==self.rear:\n",
    "            ele=self.elements[self.front]\n",
    "            self.front=-1\n",
    "            self.rear=-1\n",
    "            print(\"element deleted is\", ele)\n",
    "        else:\n",
    "            ele=self.elements[self.front]\n",
    "            self.front+=1\n",
    "            print(\"element is\", ele)"
   ]
  },
  {
   "cell_type": "markdown",
   "metadata": {},
   "source": [
    "# Queue using Doubly LinkedList"
   ]
  },
  {
   "cell_type": "code",
   "execution_count": 5,
   "metadata": {},
   "outputs": [
    {
     "name": "stdout",
     "output_type": "stream",
     "text": [
      "20\n",
      "30\n",
      "40\n"
     ]
    }
   ],
   "source": [
    "class node:\n",
    "    def __init__(self,data):\n",
    "        self.data = data\n",
    "        self.next = None\n",
    "        self.previous = None\n",
    "class queue:\n",
    "    def __init__(self):\n",
    "        self.front = None\n",
    "        self.rear = None\n",
    "    def enqueue(self,data):\n",
    "        n = node(data)\n",
    "        if self.front == None:\n",
    "            self.front = n\n",
    "            self.rear = n\n",
    "        else:\n",
    "            self.rear.next = n\n",
    "            n.previous = self.rear\n",
    "            self.rear = n\n",
    "    def dequeue(self):\n",
    "        if self.front == None:\n",
    "            Print(\"EMPTY\")\n",
    "        elif self.front == self.rear:\n",
    "            self.data = None\n",
    "            self.front = -1\n",
    "            self.rear = -1\n",
    "        else:\n",
    "            self.data = None\n",
    "            self.front = self.front.next\n",
    "    def display(self):\n",
    "        d = self.front\n",
    "        while(d!=None):\n",
    "            print(d.data)\n",
    "            d = d.next\n",
    "obj = queue()\n",
    "obj.enqueue(10)\n",
    "obj.enqueue(20)\n",
    "obj.enqueue(30)\n",
    "obj.enqueue(40)\n",
    "obj.dequeue()\n",
    "obj.display()"
   ]
  }
 ],
 "metadata": {
  "kernelspec": {
   "display_name": "Python 3",
   "language": "python",
   "name": "python3"
  },
  "language_info": {
   "codemirror_mode": {
    "name": "ipython",
    "version": 3
   },
   "file_extension": ".py",
   "mimetype": "text/x-python",
   "name": "python",
   "nbconvert_exporter": "python",
   "pygments_lexer": "ipython3",
   "version": "3.7.1"
  }
 },
 "nbformat": 4,
 "nbformat_minor": 2
}
