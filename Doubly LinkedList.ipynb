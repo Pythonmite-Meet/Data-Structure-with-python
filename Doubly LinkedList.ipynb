{
 "cells": [
  {
   "cell_type": "markdown",
   "metadata": {},
   "source": [
    "# Doubly LinkedList"
   ]
  },
  {
   "cell_type": "code",
   "execution_count": 1,
   "metadata": {},
   "outputs": [],
   "source": [
    "class node:\n",
    "    def __init__(self,data):\n",
    "        self.data = data\n",
    "        self.next = None\n",
    "        self.previous = None"
   ]
  },
  {
   "cell_type": "code",
   "execution_count": 2,
   "metadata": {},
   "outputs": [],
   "source": [
    "class linked_list:\n",
    "    def __init__(self):\n",
    "        self.head = None\n",
    "    def insertion_at_end(self,data):\n",
    "        temp = node(data)\n",
    "        if self.head == None:\n",
    "            self.head = temp #temp is the new node created\n",
    "        else:\n",
    "            p = self.head\n",
    "            while p.next != None:\n",
    "                p = p.next\n",
    "            p.next = temp\n",
    "            temp.previous = p"
   ]
  },
  {
   "cell_type": "code",
   "execution_count": 3,
   "metadata": {},
   "outputs": [],
   "source": [
    "def Insertion_at_front(self,data):\n",
    "    temp = node(data)\n",
    "    temp.next = self.head\n",
    "    self.head = temp"
   ]
  },
  {
   "cell_type": "code",
   "execution_count": 4,
   "metadata": {},
   "outputs": [],
   "source": [
    "def Insertion_before_value(self,value,data):\n",
    "    p = self.head\n",
    "    q = self.head\n",
    "    while(p.next)!=None:\n",
    "        if(p.data == value):\n",
    "            temp = node(data)\n",
    "            q.next = temp\n",
    "            temp.previous = q\n",
    "            p.previous = temp\n",
    "            temp.next = p\n",
    "            break\n",
    "        q = p\n",
    "        p = p.next"
   ]
  },
  {
   "cell_type": "code",
   "execution_count": 5,
   "metadata": {},
   "outputs": [],
   "source": [
    "def deletion_at_end(self):\n",
    "    if self.head  == None:\n",
    "        print(\"Empty\")\n",
    "    else :\n",
    "        q = self.head\n",
    "        while q.next.next != None:\n",
    "            q = q.next\n",
    "        q.next = None"
   ]
  },
  {
   "cell_type": "code",
   "execution_count": 6,
   "metadata": {},
   "outputs": [],
   "source": [
    "def Delete_at_front(self):\n",
    "    if self.head == None:\n",
    "        print(\"Empty\")\n",
    "    else:\n",
    "        self.head = self.head.next\n",
    "        self.head.previous = None"
   ]
  },
  {
   "cell_type": "code",
   "execution_count": 7,
   "metadata": {},
   "outputs": [],
   "source": [
    "def display(self):\n",
    "    p = self.head\n",
    "    while(p.next!=None):\n",
    "        print(p.data)\n",
    "        p = p.next"
   ]
  }
 ],
 "metadata": {
  "kernelspec": {
   "display_name": "Python 3",
   "language": "python",
   "name": "python3"
  },
  "language_info": {
   "codemirror_mode": {
    "name": "ipython",
    "version": 3
   },
   "file_extension": ".py",
   "mimetype": "text/x-python",
   "name": "python",
   "nbconvert_exporter": "python",
   "pygments_lexer": "ipython3",
   "version": "3.7.1"
  }
 },
 "nbformat": 4,
 "nbformat_minor": 2
}
