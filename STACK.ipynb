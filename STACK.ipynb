{
 "cells": [
  {
   "cell_type": "markdown",
   "metadata": {},
   "source": [
    "# STACK"
   ]
  },
  {
   "cell_type": "markdown",
   "metadata": {},
   "source": [
    "Stack is a data structure that follow the LIFO order"
   ]
  },
  {
   "cell_type": "markdown",
   "metadata": {},
   "source": [
    "Best Approach for singly LinkedList STACK in insertion and deletion (Using Head ) is order(1) ooder(1) BY the help of insertion/deletion at front"
   ]
  },
  {
   "cell_type": "markdown",
   "metadata": {},
   "source": [
    "# Stack using List:"
   ]
  },
  {
   "cell_type": "code",
   "execution_count": 3,
   "metadata": {},
   "outputs": [
    {
     "name": "stdout",
     "output_type": "stream",
     "text": [
      "poped item 3\n",
      "2\n",
      "1\n"
     ]
    }
   ],
   "source": [
    "class stack:\n",
    "    def __init__(self,maxsize):\n",
    "        self._maxsize = maxsize\n",
    "        self._elements = [None]*self._maxsize #List with size 10 and at all index have None in it\n",
    "        self._top = -1\n",
    "    def push(self,data):\n",
    "        if self._top == self._maxsize-1:\n",
    "            print(\"overflow\")\n",
    "        else:\n",
    "            self._top += 1\n",
    "            self._elements[self._top] = data\n",
    "    def pop(self):\n",
    "        if self._top == -1:\n",
    "            print(\"Underflow\")\n",
    "        else:\n",
    "            item = self._elements[self._top]\n",
    "            self._top -= 1\n",
    "            print(\"poped item\",item)\n",
    "    def display(self):\n",
    "        p = self._top\n",
    "        while p != -1:\n",
    "            print(self._elements[p])\n",
    "            p -= 1\n",
    "obj = stack(5)\n",
    "obj.push(1)\n",
    "obj.push(2)\n",
    "obj.push(3)\n",
    "obj.pop()\n",
    "obj.display()"
   ]
  },
  {
   "cell_type": "markdown",
   "metadata": {},
   "source": [
    "# Stack using Doubly linkedList:"
   ]
  },
  {
   "cell_type": "code",
   "execution_count": 4,
   "metadata": {},
   "outputs": [
    {
     "name": "stdout",
     "output_type": "stream",
     "text": [
      "10\n",
      "20\n",
      "30\n"
     ]
    }
   ],
   "source": [
    "class node:\n",
    "    def __init__(self,data):\n",
    "        self.data = data\n",
    "        self.next = None\n",
    "        self.previous = None\n",
    "class stack:\n",
    "    def __init__(self):\n",
    "        self.head = None\n",
    "        self.top = None\n",
    "    def push(self,data):\n",
    "        if self.head == None:\n",
    "            self.head = node(data)\n",
    "            self.top = self.head\n",
    "        else:\n",
    "            new_node = node(data)\n",
    "            self.top.next = new_node\n",
    "            new_node.previous = self.top\n",
    "            self.top = new_node\n",
    "    def pop(self):\n",
    "        if self.head == None:\n",
    "            print(\"Underflow\")\n",
    "        else:\n",
    "            self.top = self.top.previous\n",
    "            self.top.next = None\n",
    "    def display(self):\n",
    "        p = self.head\n",
    "        while p != None:\n",
    "            print(p.data)\n",
    "            p = p.next\n",
    "obj = stack()\n",
    "obj.push(10)\n",
    "obj.push(20)\n",
    "obj.push(30)\n",
    "obj.push(40)\n",
    "obj.pop()\n",
    "obj.display()"
   ]
  },
  {
   "cell_type": "code",
   "execution_count": null,
   "metadata": {},
   "outputs": [],
   "source": []
  }
 ],
 "metadata": {
  "kernelspec": {
   "display_name": "Python 3",
   "language": "python",
   "name": "python3"
  },
  "language_info": {
   "codemirror_mode": {
    "name": "ipython",
    "version": 3
   },
   "file_extension": ".py",
   "mimetype": "text/x-python",
   "name": "python",
   "nbconvert_exporter": "python",
   "pygments_lexer": "ipython3",
   "version": "3.7.1"
  }
 },
 "nbformat": 4,
 "nbformat_minor": 2
}
