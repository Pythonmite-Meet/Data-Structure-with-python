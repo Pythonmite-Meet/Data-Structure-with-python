{
 "cells": [
  {
   "cell_type": "markdown",
   "metadata": {},
   "source": [
    "# linked list in Python"
   ]
  },
  {
   "cell_type": "markdown",
   "metadata": {},
   "source": [
    "Eash node will have a data part which holds the data part and a reference part "
   ]
  },
  {
   "cell_type": "code",
   "execution_count": 3,
   "metadata": {},
   "outputs": [],
   "source": [
    "class node:\n",
    "    def __init__(self,data):\n",
    "        self.data = data\n",
    "        self.next = None"
   ]
  },
  {
   "cell_type": "code",
   "execution_count": 4,
   "metadata": {},
   "outputs": [],
   "source": [
    "class linked_list:\n",
    "    def __init__(self):\n",
    "        self.head = None"
   ]
  },
  {
   "cell_type": "code",
   "execution_count": 5,
   "metadata": {},
   "outputs": [],
   "source": [
    "def insertion_at_end(self,data):\n",
    "    temp = node(data)\n",
    "    if self.head == None:\n",
    "        self.head = temp #temp is the new node created\n",
    "    else:\n",
    "        p = self.head\n",
    "        while p.next != None:\n",
    "            p = p.next\n",
    "        p.next = temp"
   ]
  },
  {
   "cell_type": "code",
   "execution_count": 6,
   "metadata": {},
   "outputs": [],
   "source": [
    "def Insertion_at_front(self,data):\n",
    "    temp = node(data)\n",
    "    temp.next = self.head\n",
    "    self.head = temp"
   ]
  },
  {
   "cell_type": "code",
   "execution_count": 7,
   "metadata": {},
   "outputs": [],
   "source": [
    "def Insertion_before_value(self,value,data):\n",
    "    p = self.head\n",
    "    q = self.head\n",
    "    while(p.next)!=None:\n",
    "        if(p.data == value):\n",
    "            temp = node(data)\n",
    "            q.next = temp\n",
    "            temp.next = p\n",
    "            break\n",
    "        q = p\n",
    "        p = p.next"
   ]
  },
  {
   "cell_type": "code",
   "execution_count": 8,
   "metadata": {},
   "outputs": [],
   "source": [
    "def deletion_at_end(self):\n",
    "    if self.head  == None:\n",
    "        print(\"\")\n",
    "    else :\n",
    "        q = self.head\n",
    "        while q.next.next != None:\n",
    "            q = q.next\n",
    "        q.next = None"
   ]
  },
  {
   "cell_type": "code",
   "execution_count": 9,
   "metadata": {},
   "outputs": [],
   "source": [
    "def Delete_at_front(self):\n",
    "    if self.head == None:\n",
    "        print(\"\")\n",
    "    else:\n",
    "        self.head = self.head.next "
   ]
  },
  {
   "cell_type": "code",
   "execution_count": 11,
   "metadata": {},
   "outputs": [],
   "source": [
    "def Delete_value_node(self,value):\n",
    "    p = self.head\n",
    "    q = self.head\n",
    "    while p.next != None:\n",
    "        if self.data == value:\n",
    "            q.next = p.next\n",
    "        q = p \n",
    "        p = p.next"
   ]
  },
  {
   "cell_type": "code",
   "execution_count": 12,
   "metadata": {},
   "outputs": [],
   "source": [
    "def display(self):\n",
    "    p = self.head\n",
    "    while(p.next!=None):\n",
    "        print(p.data)\n",
    "        p = p.next"
   ]
  },
  {
   "cell_type": "markdown",
   "metadata": {},
   "source": [
    "### In terms of accessing List(Array is Considerd the best)"
   ]
  },
  {
   "cell_type": "markdown",
   "metadata": {},
   "source": [
    "### While for deleting,inserting LinkedList is better(Because there is shifting in array)"
   ]
  }
 ],
 "metadata": {
  "kernelspec": {
   "display_name": "Python 3",
   "language": "python",
   "name": "python3"
  },
  "language_info": {
   "codemirror_mode": {
    "name": "ipython",
    "version": 3
   },
   "file_extension": ".py",
   "mimetype": "text/x-python",
   "name": "python",
   "nbconvert_exporter": "python",
   "pygments_lexer": "ipython3",
   "version": "3.7.1"
  }
 },
 "nbformat": 4,
 "nbformat_minor": 2
}
